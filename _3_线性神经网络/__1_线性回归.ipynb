{
 "cells": [
  {
   "cell_type": "markdown",
   "id": "e3738cbb",
   "metadata": {},
   "source": [
    "线性回归——房屋价格\n",
    "\n",
    "假设影响房价的因素有卧室个数、卫生间个数、居住面积\n",
    "价格为因素的加权和\n",
    "y=w1x1+w2x2+w3x3+b   y=<W,X>+b(内积)\n",
    "\n",
    "衡量预估质量的指标是\n",
    "平方损失=1/2(y-y_hat)^2\n",
    "# 均方误差MSE=1/m*sum(y-y_hat)^2\n",
    "\n",
    "训练损失=1/2n * sum(yi-<Xi,W>-b)^2\n",
    "最小化损失以学习参数\n",
    "\n",
    "损失是凸函数，最优解是显示解\n",
    "\n",
    "线性模型可看作单层神经网络"
   ]
  },
  {
   "cell_type": "markdown",
   "id": "6b3ad452",
   "metadata": {},
   "source": []
  },
  {
   "cell_type": "markdown",
   "id": "313f96cb",
   "metadata": {},
   "source": [
    "基础优化方法：\n",
    "\n",
    "梯度下降\n",
    "Wt = W_(t-1) - yita * dJ/dW_(t-1)\n",
    "yita 为学习率 \n",
    "dJ/dW_(t-1) 为梯度\n",
    "\n",
    "但是梯度下降的缺点是每次迭代都需要计算梯度，如果数据量比较大，那么计算梯度会很慢\n",
    "小批量随机梯度下降，每次迭代只计算小批量b个样本的梯度。\n",
    "\n",
    "两个重要的超参数：\n",
    "1. 学习率：yita\n",
    "2. 批量大小：b"
   ]
  },
  {
   "cell_type": "markdown",
   "id": "e0b317c6",
   "metadata": {},
   "source": []
  },
  {
   "cell_type": "markdown",
   "id": "656d7dd7",
   "metadata": {},
   "source": [
    "线性回归从零开始实现"
   ]
  },
  {
   "cell_type": "code",
   "execution_count": null,
   "id": "5bd2fdc5",
   "metadata": {},
   "outputs": [],
   "source": [
    "%pip install d2l"
   ]
  },
  {
   "cell_type": "code",
   "execution_count": 1,
   "id": "0b5681fb",
   "metadata": {},
   "outputs": [],
   "source": [
    "%matplotlib  inline\n",
    "#Jupyter Notebook 中显示图片的命令"
   ]
  },
  {
   "cell_type": "code",
   "execution_count": 2,
   "id": "46f90d01",
   "metadata": {},
   "outputs": [],
   "source": [
    "import random\n",
    "import torch\n",
    "from d2l import torch as d2l"
   ]
  },
  {
   "cell_type": "code",
   "execution_count": null,
   "id": "c9e95746",
   "metadata": {},
   "outputs": [],
   "source": []
  }
 ],
 "metadata": {
  "kernelspec": {
   "display_name": "Python 3",
   "language": "python",
   "name": "python3"
  },
  "language_info": {
   "codemirror_mode": {
    "name": "ipython",
    "version": 3
   },
   "file_extension": ".py",
   "mimetype": "text/x-python",
   "name": "python",
   "nbconvert_exporter": "python",
   "pygments_lexer": "ipython3",
   "version": "3.9.22"
  }
 },
 "nbformat": 4,
 "nbformat_minor": 5
}
