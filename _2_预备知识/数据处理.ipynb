{
 "cells": [
  {
   "metadata": {},
   "cell_type": "markdown",
   "source": "创建文件夹、创建文件、操作文件",
   "id": "d6b4d9c97e557a6d"
  },
  {
   "cell_type": "code",
   "id": "initial_id",
   "metadata": {
    "collapsed": true
   },
   "source": [
    "import os\n",
    "\n",
    "os.makedirs(os.path.join('data'), exist_ok=True)\n",
    "data_file = os.path.join('data', 'house_tiny.csv')\n",
    "with open(data_file, 'w') as f:\n",
    "    f.write('NumRooms,Alley,Price\\n')  # 列名\n",
    "    f.write('NA,Pave,127500\\n')  # 每行表示一个数据样本\n",
    "    f.write('2,NA,106000\\n')\n",
    "    f.write('4,NA,178100\\n')\n",
    "    f.write('NA,NA,140000\\n')"
   ],
   "outputs": [],
   "execution_count": null
  },
  {
   "metadata": {},
   "cell_type": "markdown",
   "source": "读取文件",
   "id": "663dd801e3ef64c0"
  },
  {
   "metadata": {},
   "cell_type": "code",
   "source": [
    "# 如果没有安装pandas，只需取消对以下行的注释来安装pandas\n",
    "# !pip install pandas\n",
    "import pandas as pd\n",
    "\n",
    "data = pd.read_csv(data_file)\n",
    "print(data)"
   ],
   "id": "2c7d362771664125",
   "outputs": [],
   "execution_count": null
  },
  {
   "metadata": {},
   "cell_type": "markdown",
   "source": "插值",
   "id": "8c5a36aad4f1044e"
  },
  {
   "metadata": {},
   "cell_type": "code",
   "source": [
    "# 有bug，字符串类型不能用mean取平均值\n",
    "inputs, outputs = data.iloc[:, 0:2], data.iloc[:, 2]\n",
    "inputs = inputs.fillna(inputs.mean())\n",
    "print(inputs)"
   ],
   "id": "47bc4a1f8f2db39",
   "outputs": [],
   "execution_count": null
  },
  {
   "metadata": {},
   "cell_type": "code",
   "source": [
    "inputs, outputs = data.iloc[:, 0:2], data.iloc[:, 2]\n",
    "print(inputs)"
   ],
   "id": "537cfd31948d3adc",
   "outputs": [],
   "execution_count": null
  },
  {
   "metadata": {},
   "cell_type": "markdown",
   "source": "pandas的data不能直接以数组的取值方法获取值，而是需要iloc(index_location)",
   "id": "9a56cdcbf8f36e26"
  },
  {
   "metadata": {},
   "cell_type": "code",
   "source": "print(inputs.iloc[:, 0])",
   "id": "d5a909807de84d31",
   "outputs": [],
   "execution_count": null
  },
  {
   "metadata": {},
   "cell_type": "code",
   "source": [
    "inputs.iloc[:,0] = inputs.iloc[:,0].fillna(inputs.iloc[:,0].mean())\n",
    "print(inputs)"
   ],
   "id": "8a9da06f2a36e1c8",
   "outputs": [],
   "execution_count": null
  },
  {
   "metadata": {},
   "cell_type": "markdown",
   "source": "字符串对应列变为两列，两个特征",
   "id": "14f9af12a7ccbf82"
  },
  {
   "metadata": {},
   "cell_type": "code",
   "source": [
    "inputs = pd.get_dummies(inputs, dummy_na=True)\n",
    "print(inputs)"
   ],
   "id": "74f1185ec89b28c5",
   "outputs": [],
   "execution_count": null
  },
  {
   "metadata": {},
   "cell_type": "markdown",
   "source": "如果三个特征呢",
   "id": "292feb89189e72ae"
  },
  {
   "metadata": {},
   "cell_type": "code",
   "source": [
    "inputs, outputs = data.iloc[:, 0:2], data.iloc[:, 2]\n",
    "inputs.iloc[1,1]=\"prepare\"\n",
    "print(inputs)"
   ],
   "id": "cae374b8f435c1c3",
   "outputs": [],
   "execution_count": null
  },
  {
   "metadata": {},
   "cell_type": "code",
   "source": [
    "inputs = pd.get_dummies(inputs, dummy_na=True)\n",
    "print(inputs)"
   ],
   "id": "b43da741f6c1b52f",
   "outputs": [],
   "execution_count": null
  },
  {
   "metadata": {},
   "cell_type": "markdown",
   "source": "tpandas数据DataFrame   转换为torch的张量tensor",
   "id": "90f033b739ec33e5"
  },
  {
   "metadata": {},
   "cell_type": "code",
   "source": [
    "import torch\n",
    "\n",
    "# inputs, outputs = data.iloc[:, 0:2], data.iloc[:, 2]\n",
    "# inputs.iloc[:,0] = inputs.iloc[:,0].fillna(inputs.iloc[:,0].mean())\n",
    "# inputs = pd.get_dummies(inputs, dummy_na=True)\n",
    "\n",
    "# print(\"type(inputs)\\n\",type(inputs))\n",
    "# print(\"inputs\\n\",inputs)\n",
    "# print(\"inputs.values\\n\",inputs.values)\n",
    "# print(\"inputs.values.dtype\\n\",inputs.values.dtype) # object\n",
    "# print(\"type(inputs.values)\\n\",type(inputs.values))  # <class 'numpy.ndarray'>\n",
    "# print(\"inputs.to_numpy()\\n\",inputs.to_numpy())\n",
    "# print(\"type(inputs.to_numpy())\\n\",type(inputs.to_numpy()))  # <class 'numpy.ndarray'>\n",
    "# print(\"type(inputs.to_numpy(dtype=float))\\n\",type(inputs.to_numpy(dtype=float)))\n",
    "\n",
    "# X,y=torch.tensor(inputs.values,dtype=torch.float32),torch.tensor(outputs.values,dtype=torch.float32) #为什么不能这样转? bool和int混合成object无法转\n",
    "X = torch.tensor(inputs.to_numpy(dtype=float))\n",
    "y = torch.tensor(outputs.to_numpy(dtype=float))\n",
    "X, y"
   ],
   "id": "3d9f355be5fcb4c8",
   "outputs": [],
   "execution_count": null
  },
  {
   "metadata": {},
   "cell_type": "code",
   "source": "print(type(X))",
   "id": "36db8f857c64afaf",
   "outputs": [],
   "execution_count": null
  },
  {
   "metadata": {},
   "cell_type": "markdown",
   "source": "——",
   "id": "f3defd476aae4c99"
  },
  {
   "metadata": {},
   "cell_type": "markdown",
   "source": "——",
   "id": "94e553d0a6d44913"
  },
  {
   "metadata": {},
   "cell_type": "markdown",
   "source": [
    "\n",
    "奇怪现象：\n",
    "通过reshape创造的变量，在改动之后原来的变量也会跟着改变\n"
   ],
   "id": "8905f658c11d2c0"
  },
  {
   "metadata": {},
   "cell_type": "code",
   "source": [
    "a=torch.arange(12).reshape(3,4)\n",
    "a"
   ],
   "id": "df585db49c1743b0",
   "outputs": [],
   "execution_count": null
  },
  {
   "metadata": {},
   "cell_type": "code",
   "source": [
    "b=a\n",
    "b"
   ],
   "id": "d81ab8c6bd8657f2",
   "outputs": [],
   "execution_count": null
  },
  {
   "metadata": {},
   "cell_type": "code",
   "source": [
    "b[:]=2\n",
    "print(b)\n",
    "print(a)"
   ],
   "id": "1dd699c72657738d",
   "outputs": [],
   "execution_count": null
  },
  {
   "metadata": {},
   "cell_type": "code",
   "source": "print(b.shape)",
   "id": "c8052a91d8a3243f",
   "outputs": [],
   "execution_count": null
  },
  {
   "metadata": {},
   "cell_type": "markdown",
   "source": "通过clone可以开辟新内存",
   "id": "6ac09ab34c982319"
  },
  {
   "metadata": {
    "ExecuteTime": {
     "end_time": "2025-04-28T08:42:16.600839Z",
     "start_time": "2025-04-28T08:42:16.595371Z"
    }
   },
   "cell_type": "code",
   "source": [
    "A = torch.arange(20, dtype=torch.float32).reshape(5, 4)\n",
    "B = A.clone()  # 通过分配新内存，将A的一个副本分配给B\n",
    "print(A)\n",
    "print(B)"
   ],
   "id": "9926ad6b5a8e8e5a",
   "outputs": [
    {
     "name": "stdout",
     "output_type": "stream",
     "text": [
      "tensor([[ 0.,  1.,  2.,  3.],\n",
      "        [ 4.,  5.,  6.,  7.],\n",
      "        [ 8.,  9., 10., 11.],\n",
      "        [12., 13., 14., 15.],\n",
      "        [16., 17., 18., 19.]])\n",
      "tensor([[ 0.,  1.,  2.,  3.],\n",
      "        [ 4.,  5.,  6.,  7.],\n",
      "        [ 8.,  9., 10., 11.],\n",
      "        [12., 13., 14., 15.],\n",
      "        [16., 17., 18., 19.]])\n"
     ]
    }
   ],
   "execution_count": 80
  },
  {
   "metadata": {},
   "cell_type": "code",
   "source": [
    "A[:]=2\n",
    "print(A)\n",
    "print(B)"
   ],
   "id": "506610db536c0514",
   "outputs": [],
   "execution_count": null
  },
  {
   "metadata": {
    "ExecuteTime": {
     "end_time": "2025-04-28T08:42:32.082349Z",
     "start_time": "2025-04-28T08:42:32.064853Z"
    }
   },
   "cell_type": "code",
   "source": "A*B",
   "id": "439fb09a0e835c71",
   "outputs": [
    {
     "data": {
      "text/plain": [
       "tensor([[  0.,   1.,   4.,   9.],\n",
       "        [ 16.,  25.,  36.,  49.],\n",
       "        [ 64.,  81., 100., 121.],\n",
       "        [144., 169., 196., 225.],\n",
       "        [256., 289., 324., 361.]])"
      ]
     },
     "execution_count": 81,
     "metadata": {},
     "output_type": "execute_result"
    }
   ],
   "execution_count": 81
  }
 ],
 "metadata": {
  "kernelspec": {
   "display_name": "Python 3",
   "language": "python",
   "name": "python3"
  },
  "language_info": {
   "codemirror_mode": {
    "name": "ipython",
    "version": 2
   },
   "file_extension": ".py",
   "mimetype": "text/x-python",
   "name": "python",
   "nbconvert_exporter": "python",
   "pygments_lexer": "ipython2",
   "version": "2.7.6"
  }
 },
 "nbformat": 4,
 "nbformat_minor": 5
}
