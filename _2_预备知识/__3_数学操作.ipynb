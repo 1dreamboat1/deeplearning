{
 "cells": [
  {
   "cell_type": "code",
   "execution_count": null,
   "id": "259206a1826a8a40",
   "metadata": {
    "jupyter": {
     "is_executing": true
    }
   },
   "outputs": [],
   "source": [
    "%pip install torch"
   ]
  },
  {
   "cell_type": "code",
   "execution_count": null,
   "id": "dbc45d71",
   "metadata": {},
   "outputs": [],
   "source": [
    "%conda install -n dl ipykernel --update-deps --force-reinstall"
   ]
  },
  {
   "cell_type": "markdown",
   "id": "c486dcc8",
   "metadata": {},
   "source": [
    "按“轴”求和"
   ]
  },
  {
   "cell_type": "code",
   "execution_count": null,
   "id": "initial_id",
   "metadata": {
    "collapsed": true,
    "jupyter": {
     "is_executing": true
    }
   },
   "outputs": [],
   "source": [
    "import torch\n",
    "\n",
    "x=torch.arange(24).reshape(2,3,4)\n",
    "print(x)"
   ]
  },
  {
   "cell_type": "code",
   "execution_count": null,
   "id": "8a4add58c48d5af7",
   "metadata": {
    "ExecuteTime": {
     "end_time": "2025-04-28T11:15:13.271144Z",
     "start_time": "2025-04-28T11:15:13.241977Z"
    }
   },
   "outputs": [],
   "source": [
    "a=x.sum(axis=0)\n",
    "print(a)"
   ]
  },
  {
   "cell_type": "code",
   "execution_count": null,
   "id": "81b2ea03",
   "metadata": {},
   "outputs": [],
   "source": [
    "a=x.sum(axis=1)\n",
    "print(a)"
   ]
  },
  {
   "cell_type": "code",
   "execution_count": null,
   "id": "64cde86e",
   "metadata": {},
   "outputs": [],
   "source": [
    "a=x.sum(axis=2)\n",
    "print(a)"
   ]
  },
  {
   "cell_type": "markdown",
   "id": "27ecc2b7",
   "metadata": {},
   "source": []
  },
  {
   "cell_type": "markdown",
   "id": "e5177d29",
   "metadata": {},
   "source": [
    "有关梯度"
   ]
  },
  {
   "cell_type": "code",
   "execution_count": null,
   "id": "e438f0ee",
   "metadata": {},
   "outputs": [],
   "source": [
    "x=torch.arange(5.0)\n",
    "x"
   ]
  },
  {
   "cell_type": "markdown",
   "id": "a8d4a7e1",
   "metadata": {},
   "source": [
    "在计算y关于x的梯度之前，需要存储梯度"
   ]
  },
  {
   "cell_type": "code",
   "execution_count": null,
   "id": "67f0e572",
   "metadata": {},
   "outputs": [],
   "source": [
    "x.requires_grad_(True) #only Tensors of floating point dtype can require gradients\n",
    "x.grad"
   ]
  },
  {
   "cell_type": "code",
   "execution_count": null,
   "id": "d3369ec8",
   "metadata": {},
   "outputs": [],
   "source": [
    "y=torch.dot(x,x)\n",
    "y"
   ]
  },
  {
   "cell_type": "markdown",
   "id": "d2a8a904",
   "metadata": {},
   "source": [
    "保存梯度，反向传播函数计算梯度"
   ]
  },
  {
   "cell_type": "code",
   "execution_count": null,
   "id": "a3d7dc69",
   "metadata": {},
   "outputs": [],
   "source": [
    "y.backward()\n",
    "x.grad"
   ]
  },
  {
   "cell_type": "code",
   "execution_count": null,
   "id": "0cb656bf",
   "metadata": {},
   "outputs": [],
   "source": [
    "x.grad==x*2"
   ]
  },
  {
   "cell_type": "code",
   "execution_count": null,
   "id": "30fd34a0",
   "metadata": {},
   "outputs": [],
   "source": [
    "x.grad.zero_() # 在默认情况下，PyTorch会累积梯度，我们需要清除之前的值\n",
    "y = x.sum()\n",
    "y.backward()\n",
    "x.grad"
   ]
  },
  {
   "cell_type": "markdown",
   "id": "1c5a4b9c",
   "metadata": {},
   "source": [
    "深度学习中，我们的目的不是计算微分矩阵，而是批量中每个样本单独计算的偏导数之和。\n",
    "所以一般求和后再反向传播"
   ]
  },
  {
   "cell_type": "code",
   "execution_count": null,
   "id": "728eb84c",
   "metadata": {},
   "outputs": [],
   "source": [
    "x.grad.zero_()\n",
    "y = x * x\n",
    "y.sum().backward()\n",
    "x.grad"
   ]
  },
  {
   "cell_type": "markdown",
   "id": "297b875a",
   "metadata": {},
   "source": [
    "detach()函数\n",
    "是将tensor从计算图中分离出来，并返回一个tensor，该tensor的requires_grad属性为False，即不会被梯度计算。\n",
    "通俗来讲，是将计算结果定为常数，而非关于x的函数"
   ]
  },
  {
   "cell_type": "code",
   "execution_count": 75,
   "id": "20d3b6bb",
   "metadata": {},
   "outputs": [
    {
     "data": {
      "text/plain": [
       "tensor([True, True, True, True, True])"
      ]
     },
     "execution_count": 75,
     "metadata": {},
     "output_type": "execute_result"
    }
   ],
   "source": [
    "x.grad.zero_()\n",
    "y = x * x\n",
    "u = y.detach()\n",
    "z = u * x\n",
    "\n",
    "z.sum().backward()\n",
    "x.grad == u"
   ]
  },
  {
   "cell_type": "code",
   "execution_count": 76,
   "id": "78d7aa48",
   "metadata": {},
   "outputs": [
    {
     "data": {
      "text/plain": [
       "tensor([True, True, True, True, True])"
      ]
     },
     "execution_count": 76,
     "metadata": {},
     "output_type": "execute_result"
    }
   ],
   "source": [
    "x.grad.zero_()\n",
    "y.sum().backward()\n",
    "x.grad == 2 * x"
   ]
  },
  {
   "cell_type": "markdown",
   "id": "8c2e0dd4",
   "metadata": {},
   "source": []
  },
  {
   "cell_type": "markdown",
   "id": "34a6eaf6",
   "metadata": {},
   "source": [
    "点积"
   ]
  },
  {
   "cell_type": "code",
   "execution_count": null,
   "id": "7aa5d38d",
   "metadata": {},
   "outputs": [],
   "source": [
    "a=torch.arange(4)\n",
    "y=torch.dot(a,a)\n",
    "y"
   ]
  },
  {
   "cell_type": "markdown",
   "id": "8a3c9e16",
   "metadata": {},
   "source": [
    "矩阵-向量积  此时后面的默认为列向量，且不能手动指定x，1的尺寸，否则会变为矩阵而非向量"
   ]
  },
  {
   "cell_type": "code",
   "execution_count": null,
   "id": "1568d9b2",
   "metadata": {},
   "outputs": [],
   "source": [
    "a=torch.arange(20).reshape(5,4)\n",
    "b=torch.arange(4).reshape(4)\n",
    "print(a.size(1))\n",
    "print(b.size(0))\n",
    "print(\"a:\",a)\n",
    "print(\"b:\",b)"
   ]
  },
  {
   "cell_type": "code",
   "execution_count": null,
   "id": "3e16bd47",
   "metadata": {},
   "outputs": [],
   "source": [
    "c=torch.mv(a,b)  #5×1\n",
    "c"
   ]
  },
  {
   "cell_type": "markdown",
   "id": "6f1ac6ec",
   "metadata": {},
   "source": [
    "矩阵-矩阵积"
   ]
  },
  {
   "cell_type": "code",
   "execution_count": null,
   "id": "80b6cfcd",
   "metadata": {},
   "outputs": [],
   "source": [
    "a=torch.arange(5).reshape(1,5)\n",
    "b=torch.arange(20).reshape(5,4)\n",
    "# print(a.size(1))\n",
    "# print(b.size(0))\n",
    "print(\"a:\",a)\n",
    "print(\"b:\",b)"
   ]
  },
  {
   "cell_type": "code",
   "execution_count": null,
   "id": "ab38edeb",
   "metadata": {},
   "outputs": [],
   "source": [
    "c=torch.mm(a,b)  #1×4\n",
    "c"
   ]
  },
  {
   "cell_type": "code",
   "execution_count": null,
   "id": "5384556a",
   "metadata": {},
   "outputs": [],
   "source": [
    "a=torch.arange(20).reshape(5,4)\n",
    "b=torch.arange(4).reshape(4,1)\n",
    "print(a.size(1))\n",
    "print(b.size(0))\n",
    "print(\"a:\",a)\n",
    "print(\"b:\",b)"
   ]
  },
  {
   "cell_type": "code",
   "execution_count": null,
   "id": "5c542d9f",
   "metadata": {},
   "outputs": [],
   "source": [
    "c=torch.mm(a,b)  #5×1\n",
    "c"
   ]
  },
  {
   "cell_type": "code",
   "execution_count": null,
   "id": "ed733681",
   "metadata": {},
   "outputs": [],
   "source": []
  }
 ],
 "metadata": {
  "kernelspec": {
   "display_name": "dl",
   "language": "python",
   "name": "python3"
  },
  "language_info": {
   "codemirror_mode": {
    "name": "ipython",
    "version": 3
   },
   "file_extension": ".py",
   "mimetype": "text/x-python",
   "name": "python",
   "nbconvert_exporter": "python",
   "pygments_lexer": "ipython3",
   "version": "3.8.20"
  }
 },
 "nbformat": 4,
 "nbformat_minor": 5
}
